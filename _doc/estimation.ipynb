{
 "cells": [
  {
   "cell_type": "markdown",
   "metadata": {},
   "source": [
    "# Wissink Experiment Estimation"
   ]
  },
  {
   "cell_type": "code",
   "execution_count": 1,
   "metadata": {
    "collapsed": false
   },
   "outputs": [],
   "source": [
    "import numpy as np\n",
    "import pert"
   ]
  },
  {
   "cell_type": "markdown",
   "metadata": {},
   "source": [
    "Task dictionary, every key is a task and every body is a tuple with the `(o, p, m)`\n",
    "\n",
    "Where:\n",
    "\n",
    "- optimistic time (O): the minimum possible time required to accomplish a\n",
    "  task, assuming everything proceeds better than is normally expected\n",
    "- pessimistic time (P): the maximum possible time required to accomplish a\n",
    "  task, assuming everything goes wrong (but excluding major catastrophes).\n",
    "- most likely time (M): the best estimate of the time required to\n",
    "  accomplish a task, assuming everything proceeds as normal."
   ]
  },
  {
   "cell_type": "markdown",
   "metadata": {},
   "source": [
    "All times are expresed in **hours**"
   ]
  },
  {
   "cell_type": "code",
   "execution_count": 2,
   "metadata": {
    "collapsed": false
   },
   "outputs": [],
   "source": [
    "fee = 25. # dollars per hour\n",
    "\n",
    "tasks = {\n",
    "    \"Welcome + password auth\": (3., 4., 3.),\n",
    "    \"All the instruccion pages\": (2, 3, 3),\n",
    "    \"Comprehension question\": (1, 2, 1),\n",
    "    \"Player assignation toutines\": (2, 4, 2),\n",
    "    \"G1 game screen (all phases)\": (6, 10, 6),\n",
    "    \"All Result and recap\": (3, 5, 3),\n",
    "    \"Screen Saver\": (3, 5, 3),\n",
    "    \"Variables\": (2, 5, 2),\n",
    "    \"Adjust\": (5, 8, 5)# PLEASE READ THE NOTES ABOUT THIS TOPIC\n",
    "}"
   ]
  },
  {
   "cell_type": "markdown",
   "metadata": {},
   "source": [
    "### Expected time by taks"
   ]
  },
  {
   "cell_type": "markdown",
   "metadata": {},
   "source": [
    "the best estimate of the time required to accomplish a\n",
    "task, accounting for the fact that things don't always proceed as normal\n",
    "(the implication being that the expected time is the average time the\n",
    "task would require if the task were repeated on a number of occasions over\n",
    "an extended period of time).\n",
    "\n",
    "```\n",
    "TE = (O + 4M + P) / 6\n",
    "```"
   ]
  },
  {
   "cell_type": "code",
   "execution_count": 3,
   "metadata": {
    "collapsed": false
   },
   "outputs": [
    {
     "name": "stdout",
     "output_type": "stream",
     "text": [
      "   G1 game screen (all phases) - 6.67 hs\n",
      "          All Result and recap - 3.33 hs\n",
      "                        Adjust - 5.50 hs\n",
      "                  Screen Saver - 3.33 hs\n",
      "     All the instruccion pages - 2.83 hs\n",
      "   Player assignation toutines - 2.33 hs\n",
      "        Comprehension question - 1.17 hs\n",
      "                     Variables - 2.50 hs\n",
      "       Welcome + password auth - 3.17 hs\n"
     ]
    }
   ],
   "source": [
    "for k, v in tasks.items():\n",
    "    print k.rjust(30), \"-\", \"%.2f hs\" % pert.expect(*v)"
   ]
  },
  {
   "cell_type": "markdown",
   "metadata": {},
   "source": [
    "### Global Estimation\n",
    "\n",
    "Create a estimation for a set of values. This return three range of values with probablilities of 68.2%, 95.4%, 99.7%"
   ]
  },
  {
   "cell_type": "code",
   "execution_count": 4,
   "metadata": {
    "collapsed": false
   },
   "outputs": [],
   "source": [
    "optimists = [v[0] for v in tasks.values()]\n",
    "pesimists = [v[1] for v in tasks.values()]\n",
    "most_likely = [v[2] for v in tasks.values()]"
   ]
  },
  {
   "cell_type": "code",
   "execution_count": 5,
   "metadata": {
    "collapsed": false
   },
   "outputs": [
    {
     "name": "stdout",
     "output_type": "stream",
     "text": [
      "With 68.2% of probability the project will be ended in between 27.67 and 37.17 hours\n",
      "With 95.4% of probability the project will be ended in between 24.50 and 37.17 hours\n",
      "With 99.7% of probability the project will be ended in between 21.33 and 40.33 hours\n"
     ]
    }
   ],
   "source": [
    "probs = pert.estimate(optimists, pesimists, most_likely)\n",
    "\n",
    "print(\n",
    "    \"With {0}% of probability the project will be ended in between {1:.2f} and {2:.2f} hours\"\n",
    ").format(\"68.2\", *probs[0])\n",
    "print(\n",
    "    \"With {0}% of probability the project will be ended in between {1:.2f} and {2:.2f} hours\"\n",
    ").format(\"95.4\", *probs[1])\n",
    "print(\n",
    "    \"With {0}% of probability the project will be ended in between {1:.2f} and {2:.2f} hours\"\n",
    ").format(\"99.7\", *probs[2])"
   ]
  },
  {
   "cell_type": "markdown",
   "metadata": {},
   "source": [
    "### Adjustments\n",
    "\n",
    "The code require some tricky programming when the players has some kind of timeout. The bots (ai players) inside the game is still a wanted feature in otree but is not implemented. Also the reasignment of the players to a diferent group in the middle of the game is hard to do.\n",
    "\n",
    "The adjustment is my **optimistic** estimation of how to do most of this requirements, but maybe its not posible to make all the requiements of the project.\n",
    "\n",
    "\n",
    "### Conclusion"
   ]
  },
  {
   "cell_type": "code",
   "execution_count": 6,
   "metadata": {
    "collapsed": false
   },
   "outputs": [
    {
     "name": "stdout",
     "output_type": "stream",
     "text": [
      "The project will be made in a range between of 27.67 (worst best) and 40.33 (best worst) hours\n",
      "In money the project will cost in between 691.67 usd and 1008.33 usd\n"
     ]
    }
   ],
   "source": [
    "limits = (probs[0][0], probs[2][1])\n",
    "costs = (probs[0][0] * fee, probs[2][1] * fee)\n",
    "print(\n",
    "    \"The project will be made in a range between of {0:.2f} (worst best) and {1:.2f} (best worst) hours\"\n",
    ").format(*limits)\n",
    "print(\"In money the project will cost in between {0:.2f} usd and {1:.2f} usd\".format(*costs))"
   ]
  },
  {
   "cell_type": "code",
   "execution_count": 7,
   "metadata": {
    "collapsed": false
   },
   "outputs": [
    {
     "data": {
      "text/plain": [
       "'2016-07-29T03:58:10.546027'"
      ]
     },
     "execution_count": 7,
     "metadata": {},
     "output_type": "execute_result"
    }
   ],
   "source": [
    "import datetime; datetime.datetime.now().isoformat()"
   ]
  },
  {
   "cell_type": "markdown",
   "metadata": {
    "collapsed": true
   },
   "source": [
    "**An estimation is not a deadline**"
   ]
  },
  {
   "cell_type": "code",
   "execution_count": null,
   "metadata": {
    "collapsed": true
   },
   "outputs": [],
   "source": []
  },
  {
   "cell_type": "code",
   "execution_count": null,
   "metadata": {
    "collapsed": true
   },
   "outputs": [],
   "source": []
  }
 ],
 "metadata": {
  "kernelspec": {
   "display_name": "Python 2",
   "language": "python",
   "name": "python2"
  },
  "language_info": {
   "codemirror_mode": {
    "name": "ipython",
    "version": 2
   },
   "file_extension": ".py",
   "mimetype": "text/x-python",
   "name": "python",
   "nbconvert_exporter": "python",
   "pygments_lexer": "ipython2",
   "version": "2.7.10"
  }
 },
 "nbformat": 4,
 "nbformat_minor": 0
}
